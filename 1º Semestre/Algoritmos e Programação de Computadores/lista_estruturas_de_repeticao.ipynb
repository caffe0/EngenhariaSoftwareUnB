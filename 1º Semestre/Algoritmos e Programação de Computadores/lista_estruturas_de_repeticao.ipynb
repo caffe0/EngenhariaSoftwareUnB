{
  "nbformat": 4,
  "nbformat_minor": 0,
  "metadata": {
    "colab": {
      "provenance": [],
      "authorship_tag": "ABX9TyNH0+Sz0+Vo7MUvAxXch720"
    },
    "kernelspec": {
      "name": "python3",
      "display_name": "Python 3"
    },
    "language_info": {
      "name": "python"
    }
  },
  "cells": [
    {
      "cell_type": "markdown",
      "source": [
        "# **Estruturas de repetição**"
      ],
      "metadata": {
        "id": "a8IZkYFCx_v_"
      }
    },
    {
      "cell_type": "markdown",
      "source": [
        "q1"
      ],
      "metadata": {
        "id": "SmE-bGL3yBiA"
      }
    },
    {
      "cell_type": "markdown",
      "source": [
        "Nem mesmo a intervenção do Banco Central nesta terça evitou que a moeda americana registrasse sua quarta alta seguida na bolsa de valores.\n",
        "\n",
        "Sua casa de câmbio vende dólares em lotes, por uma módica taxa adicional de 2,5% por lote (devido a contratos de ativos futuros). Implemente um programa para computar o valor final a ser cobrado em uma venda.\n",
        "\n",
        "\n",
        "\n",
        "**Entrada**\n",
        "A entrada consiste em uma linha com um valor real positivo 0≤n\n",
        ", representando a atual cotação do dólar. A linha seguinte apresenta um valor inteiro positivo 0≤l\n",
        " indicando o tamanho do lote (quantos dólares serão comprados). A última linha apresenta um valor inteiro positivo indicando a quantidade de lotes 0≤q\n",
        " a serem vendidos.\n",
        "\n",
        "\n",
        "\n",
        "**Saída**\n",
        "Apresente, para cada lote, uma linha contendo a mensagem indicando o número do lote e seu custo para o cliente, com duas casas decimais, conforme os exemplos.\n",
        "\n"
      ],
      "metadata": {
        "id": "7SMf7snEyjsM"
      }
    },
    {
      "cell_type": "code",
      "source": [
        "a=float(input())\n",
        "b=int(input())\n",
        "c=int(input())\n",
        "\n",
        "total = (a*b)+((a*b)*(2.5/100))\n",
        "n=1\n",
        "while n<=c:\n",
        "  print('Lote: {} - Total da venda: R$ {:.2f}'.format(n,total))\n",
        "  n=n+1"
      ],
      "metadata": {
        "id": "Ramy1hF5yCLx"
      },
      "execution_count": null,
      "outputs": []
    },
    {
      "cell_type": "markdown",
      "source": [
        "q2"
      ],
      "metadata": {
        "id": "kXx-rbEP2QWm"
      }
    },
    {
      "cell_type": "markdown",
      "source": [
        "Jordan quer resolver um problema muito interessante. Dadas as informações sobre o tamanho da população e a taxa de crescimento de duas cidades quaisquer (A e B), ele gostaria de saber quando a cidade menor (sempre é a cidade A) irá alcançar a cidade B em população (se é que vai alcançar). Sua tarefa é construir um programa que faça esses cálculos, porém, em alguns casos o tempo pode ser muito grande, e Jordan não se interessa em saber exatamente o tempo para estes casos.\n",
        "\n",
        "\n",
        "\n",
        "**Entrada**\n",
        "A entrada contém 4 valores: dois inteiros  (100≤PA,PB≤1000000\n",
        ") indicando respectivamente a população de A e B, e dois valores  (0.0≤T1,T2≤100.0\n",
        "), indicando respectivamente, em percentual, o crescimento populacional de A e B.\n",
        "\n",
        "\n",
        "\n",
        "**Saída**\n",
        "A saída deverá ser \"Mais de um milenio.\" se a quantidade de anos for superior a 1000, \"Vai alcancar em X ano(s).\", onde X representa a quantiade de anos para a população de A alcançar o tamanho da população de B, ou \"A nunca alcancara B.\", se a população nunca for alcançar a população de B.\n",
        "\n",
        "\n",
        "\n",
        "**Notas**\n",
        "A população é sempre um valor inteiro, portanto, um crescimento de 2.5% sobre uma população de 100 pessoas resultará em 102 pessoas, e não 102.5 pessoas, enquanto um crescimento de 2.5% sobre uma população de 1000 pessoas resultará em 1025. Para coletar a parte inteira de um número em ponto flutuante, considere a utilização da função int.\n",
        "\n"
      ],
      "metadata": {
        "id": "s4Bs3u4m2TNr"
      }
    },
    {
      "cell_type": "code",
      "source": [
        "l=input()\n",
        "pa,pb,t1,t2=l.split()\n",
        "pa = int(pa)\n",
        "pb = int(pb)\n",
        "t1 = float(t1)\n",
        "t2 = float(t2)\n",
        "n = 0\n",
        "\n",
        "if t1>t2:\n",
        "  while pa < pb:\n",
        "    pa = int(pa+ (pa * (t1 / 100)))\n",
        "    pb += int((pb * (t2 / 100)))\n",
        "    n += 1\n",
        "  if n>1000:\n",
        "    print('Mais de um milenio.')\n",
        "  else:\n",
        "      print('Vai alcancar em {} ano(s).'.format(n))\n",
        "else:\n",
        "  print('A nunca alcancara B.')"
      ],
      "metadata": {
        "id": "6O0s3da32YtH"
      },
      "execution_count": null,
      "outputs": []
    },
    {
      "cell_type": "markdown",
      "source": [
        "q3"
      ],
      "metadata": {
        "id": "5e2LgSRRCF0N"
      }
    },
    {
      "cell_type": "markdown",
      "source": [
        "Dêivis e seus amigos estão se preparando para o próximo show de rock: Black Sabbath. A banda virá pela segunda e última vez ao Brasil, em dezembro de 2016. A situação é a seguinte: nem todos os amigos possuem dinheiro o suficiente para comprar o ingresso, mas alguns amigos possuem mais dinheiro do que o necessário. Como Dêivis e seus amigos são muito unidos e acreditam que a coisa mais importante da vida é não perder um show de rock com a galera, eles decidiram juntar todo o dinheiro que têm para tentarem comprar ingressos para todos. Dêivis se encarregou de fazer as contas. Mas o Dêivis é o Dêivis... É claro que sobrou para você.\n",
        "\n",
        "Dada a quantidade de dinheiro de cada amigo e o valor i\n",
        " do ingresso, Dêivis pediu a sua ajuda para calcular a parte inteira do dinheiro médio e determinar se todos poderão ir ao show.\n",
        "\n",
        "\n",
        "**Entrada**\n",
        "A primeira linha da entrada contém dois inteiros: quantidade de amigos 1≤n≤109\n",
        " e preço do ingresso 1≤i≤109\n",
        " separados por espaço. Cada uma das próximas n\n",
        " linhas contém um inteiro  0≤ai≤109\n",
        " onde 1≤i≤n\n",
        " representa o dinheiro do i-ésimo amigo.\n",
        "\n",
        "\n",
        "\n",
        "**Saída**\n",
        "A primeira linha da saída deve conter a parte inteira do dinheiro médio para cada amigo, conforme os exemplos. A segunda linha deve conter a mensagem \"o rock reinara mais uma vez\" se houver dinheiro o suficiente para todos, ou a mensagem \"rockeiros trabalhando ja\" em caso contrário."
      ],
      "metadata": {
        "id": "tGhLaMbWCHUH"
      }
    },
    {
      "cell_type": "code",
      "source": [
        "l=input()\n",
        "n,i=l.split()\n",
        "n=int(n)\n",
        "i=int(i)\n",
        "\n"
      ],
      "metadata": {
        "id": "BNNKbBLhCd2P"
      },
      "execution_count": null,
      "outputs": []
    }
  ]
}
