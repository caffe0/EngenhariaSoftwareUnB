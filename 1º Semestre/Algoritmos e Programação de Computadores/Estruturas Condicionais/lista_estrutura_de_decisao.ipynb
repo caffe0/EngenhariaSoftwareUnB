{
  "nbformat": 4,
  "nbformat_minor": 0,
  "metadata": {
    "colab": {
      "provenance": [],
      "authorship_tag": "ABX9TyPyRv9JTE74cOduyIKAqcCj"
    },
    "kernelspec": {
      "name": "python3",
      "display_name": "Python 3"
    },
    "language_info": {
      "name": "python"
    }
  },
  "cells": [
    {
      "cell_type": "markdown",
      "source": [
        "# ***q1***"
      ],
      "metadata": {
        "id": "ObpGuSX06gsf"
      }
    },
    {
      "cell_type": "code",
      "execution_count": null,
      "metadata": {
        "id": "J6Ct3dVY5cZe"
      },
      "outputs": [],
      "source": [
        "def area(a,b,c):\n",
        "    if c=='losango':\n",
        "        print('O losango tem %i de area'%((a*b)/2))\n",
        "    else:\n",
        "        print('O retangulo tem %i de area'%(b*a))"
      ]
    },
    {
      "cell_type": "markdown",
      "source": [
        "# ***q2***"
      ],
      "metadata": {
        "id": "T9tB5Tmo6u_v"
      }
    },
    {
      "cell_type": "code",
      "source": [
        "def area(a,b,c):\n",
        "    if c=='losango':\n",
        "        print('O losango tem %i de area'%((a*b)/2))\n",
        "    elif c=='retangulo':\n",
        "        print('O retangulo tem %i de area'%(b*a))\n",
        "    else:\n",
        "        print('O triangulo tem %i de area'%((a*b)/2))"
      ],
      "metadata": {
        "id": "InFi489N6xHj"
      },
      "execution_count": null,
      "outputs": []
    },
    {
      "cell_type": "markdown",
      "source": [
        "q3"
      ],
      "metadata": {
        "id": "D4-0liYd7HXb"
      }
    },
    {
      "cell_type": "code",
      "source": [
        "def area(a,b,c):\n",
        "    bastri=(b*a)/2\n",
        "    if c=='circulo':\n",
        "        print('O circulo tem %i de area'%(b*a**2))\n",
        "    elif c=='retangulo':\n",
        "        print('O retangulo tem %i de area'%(a*b))\n",
        "    elif c=='losango':\n",
        "\n",
        "        print('O losango tem %i de area'%(bastri))\n",
        "    else:\n",
        "        print('O triangulo tem %i de area'%(bastri))"
      ],
      "metadata": {
        "id": "B-5zaawX7IAI"
      },
      "execution_count": null,
      "outputs": []
    },
    {
      "cell_type": "markdown",
      "source": [
        "q4"
      ],
      "metadata": {
        "id": "y0Q_15JW84y3"
      }
    },
    {
      "cell_type": "code",
      "source": [
        "def banner(n):\n",
        "    if n%2==0:\n",
        "        if n>0:\n",
        "            print('| | | | | | | | | |')\n",
        "        else:\n",
        "            print('. . . . . . . . . .')\n",
        "    else:\n",
        "        if n>0:\n",
        "            print('- - - - - - - - - -')\n",
        "        else:\n",
        "            print('= = = = = = = = = =')"
      ],
      "metadata": {
        "id": "AyX24cwk85Xg"
      },
      "execution_count": null,
      "outputs": []
    },
    {
      "cell_type": "markdown",
      "source": [
        "q5"
      ],
      "metadata": {
        "id": "Y_miaaNV9afG"
      }
    },
    {
      "cell_type": "code",
      "source": [
        "def dinheiros(n,a,b):\n",
        "    if n%2 == 0 and a >= b:\n",
        "        print(int((n/2)*b))\n",
        "    elif n%2 == 0 and a < b:\n",
        "        print(int(n*a))\n",
        "    elif n%2 != 0 and a > b:\n",
        "        print ((n//2)*b + (n%2)*a)\n",
        "    else:\n",
        "        print(n*a)"
      ],
      "metadata": {
        "id": "EZz38nhM9a9R"
      },
      "execution_count": null,
      "outputs": []
    },
    {
      "cell_type": "markdown",
      "source": [
        "q6"
      ],
      "metadata": {
        "id": "lAiLcGv69zYA"
      }
    },
    {
      "cell_type": "code",
      "source": [
        "def dominos(a,b):\n",
        "    print(int((a*b)/2))"
      ],
      "metadata": {
        "id": "fudJ7GEa9z4D"
      },
      "execution_count": null,
      "outputs": []
    },
    {
      "cell_type": "markdown",
      "source": [
        "q7"
      ],
      "metadata": {
        "id": "okE9XwIH-NAr"
      }
    },
    {
      "cell_type": "code",
      "source": [
        "def realidade(a,b,c):\n",
        "    d=(b**2)-4*(a*c)\n",
        "    if d<0:\n",
        "        print('complexas')\n",
        "    else:\n",
        "        print('reais')"
      ],
      "metadata": {
        "id": "F98vliVs-NWP",
        "colab": {
          "base_uri": "https://localhost:8080/"
        },
        "outputId": "ee6582c4-b9f8-429b-ded8-e7832cf3c3cb"
      },
      "execution_count": null,
      "outputs": [
        {
          "output_type": "stream",
          "name": "stdout",
          "text": [
            "28\n"
          ]
        }
      ]
    },
    {
      "cell_type": "markdown",
      "source": [
        "q8"
      ],
      "metadata": {
        "id": "CDkWc7lUaaIV"
      }
    },
    {
      "cell_type": "code",
      "source": [
        "def formamisteriosa(a,b,c):\n",
        "    if a==b:\n",
        "        print('pode ser quadrado')\n",
        "    else:\n",
        "        print('pode ser retangulo')\n",
        "    if (a+b)>c and (a+c)>b and (c+b)>a:\n",
        "        if a==b==c:\n",
        "            print('pode ser triangulo equilatero')\n",
        "        elif a==b!=c or a==c!=b:\n",
        "            print('pode ser triangulo isosceles')\n",
        "        else:\n",
        "            print('pode ser triangulo escaleno')"
      ],
      "metadata": {
        "id": "VgxDMVhBaaru"
      },
      "execution_count": null,
      "outputs": []
    },
    {
      "cell_type": "markdown",
      "source": [
        "q9"
      ],
      "metadata": {
        "id": "3b0XyBR7bZPp"
      }
    },
    {
      "cell_type": "code",
      "source": [
        "def classificador(a,b,c):\n",
        "    if (a+b)>c and (a+c)>b and (c+b)>a:\n",
        "        print('triangulo')\n",
        "        if a!=b and b!=c and a!=c:\n",
        "            print('escaleno')\n",
        "        if a==b or b==c or a==c:\n",
        "            print('isosceles')\n",
        "        if a==b and a==c and b==c:\n",
        "            print('equilatero')\n",
        "        else:\n",
        "            m=max(a,b,c)\n",
        "            if m==a:\n",
        "                if a**2==(b**2)+(c**2):\n",
        "                    print('retangulo')\n",
        "            elif m==b:\n",
        "                if (b**2)==(a**2)+(c**2):\n",
        "                    print('retangulo')\n",
        "            else:\n",
        "                if c**2==(a**2)+(b**2):\n",
        "                    print('retangulo')\n",
        "    else:\n",
        "        print('gondim sendo gondim')"
      ],
      "metadata": {
        "colab": {
          "base_uri": "https://localhost:8080/"
        },
        "id": "DnKmKr5LbaE3",
        "outputId": "a8dbd214-7564-4adc-a2c3-c17bf7d5b403"
      },
      "execution_count": null,
      "outputs": [
        {
          "output_type": "stream",
          "name": "stdout",
          "text": [
            "[5, 6]\n",
            "5 6\n",
            "10\n"
          ]
        }
      ]
    },
    {
      "cell_type": "markdown",
      "source": [
        "q10"
      ],
      "metadata": {
        "id": "s9ZVE22plb0U"
      }
    },
    {
      "cell_type": "code",
      "source": [
        "def older(a,b):\n",
        "    if max(a,b)==a and max(a,b)!=b:\n",
        "        print('A')\n",
        "    elif max(a,b)==b and max(a,b)!=a:\n",
        "        print('B')\n",
        "    else:\n",
        "        print('Maybe twins')"
      ],
      "metadata": {
        "colab": {
          "base_uri": "https://localhost:8080/"
        },
        "id": "4JjABmywfVu_",
        "outputId": "c90af9fa-af53-4acb-8d96-959c178b82f3"
      },
      "execution_count": null,
      "outputs": [
        {
          "output_type": "stream",
          "name": "stdout",
          "text": [
            "triangulo\n",
            "escaleno\n"
          ]
        }
      ]
    },
    {
      "cell_type": "markdown",
      "source": [
        "q11"
      ],
      "metadata": {
        "id": "0g2guJf5l6nP"
      }
    },
    {
      "cell_type": "code",
      "source": [
        "def riscu(a,b):\n",
        "    m=max(a,b)\n",
        "    if m==a and m!=b or m==b and m!=a:\n",
        "        if m==a:\n",
        "            print('Jogador A vence')\n",
        "        else:\n",
        "            print('Jogador B vence')\n",
        "    else:\n",
        "        print('Dois jogadores igualmente fracos')"
      ],
      "metadata": {
        "id": "pJ0E174Ql7sI"
      },
      "execution_count": null,
      "outputs": []
    },
    {
      "cell_type": "markdown",
      "source": [
        "q12"
      ],
      "metadata": {
        "id": "qfUSu8MKnitf"
      }
    },
    {
      "cell_type": "code",
      "source": [
        "def jogadas(a,b):\n",
        "    n=b-a\n",
        "    if a==b:\n",
        "        print(n)\n",
        "    elif a<b:\n",
        "        if n%10==0:\n",
        "            print(n//10)\n",
        "        else:\n",
        "            print((n//10)+1)\n",
        "    else:\n",
        "        n=a-b\n",
        "        if n%10==0:\n",
        "            print(n//10)\n",
        "        else:\n",
        "            print((n//10)+1)"
      ],
      "metadata": {
        "id": "Cx_ONh6CnjSj"
      },
      "execution_count": null,
      "outputs": []
    },
    {
      "cell_type": "markdown",
      "source": [
        "q13"
      ],
      "metadata": {
        "id": "5NkNJ-zgnjqP"
      }
    },
    {
      "cell_type": "code",
      "source": [
        "def sedeDeMelancia(w):\n",
        "    if w%2==0:\n",
        "        if (w//2)%2==0:\n",
        "            print('SIM')\n",
        "        else:\n",
        "            print('NAO')\n",
        "    else:\n",
        "        print('NAO')"
      ],
      "metadata": {
        "id": "B27fEZ85nkSf"
      },
      "execution_count": null,
      "outputs": []
    },
    {
      "cell_type": "markdown",
      "source": [
        "q14"
      ],
      "metadata": {
        "id": "18Tjp39loGpi"
      }
    },
    {
      "cell_type": "code",
      "source": [
        "def qtdcopos(n):\n",
        "    if n>0:\n",
        "        if n%4==0:\n",
        "            print('Pode levar pros calourinhos, deivis!')\n",
        "        else:\n",
        "            print('Pode voltar pro ceubinho, deivis! Falta(m) %i copo(s)!'%(4-(n%4)))\n",
        "    else:\n",
        "        print('Pode voltar pro ceubinho, deivis! Falta(m) 4 copo(s)!')"
      ],
      "metadata": {
        "colab": {
          "base_uri": "https://localhost:8080/"
        },
        "id": "CGjx-xmToHMj",
        "outputId": "ffd8c6b8-ad83-4fbf-b58c-66b8eaab13f1"
      },
      "execution_count": null,
      "outputs": [
        {
          "output_type": "stream",
          "name": "stdout",
          "text": [
            "3\n"
          ]
        }
      ]
    },
    {
      "cell_type": "markdown",
      "source": [
        "q15"
      ],
      "metadata": {
        "id": "YSf5W4nnqnT8"
      }
    },
    {
      "cell_type": "code",
      "source": [],
      "metadata": {
        "id": "m-crpVt3qo9D"
      },
      "execution_count": null,
      "outputs": []
    },
    {
      "cell_type": "markdown",
      "source": [
        "q16"
      ],
      "metadata": {
        "id": "SkAIrHuajXhq"
      }
    },
    {
      "cell_type": "code",
      "source": [
        "def quantosJantam(n,g,f,c):\n",
        "    if n>0:\n",
        "        if f==0 or g==0:\n",
        "            if n<c:\n",
        "                print(n)\n",
        "            else:\n",
        "                print(c)\n",
        "        else:\n",
        "            if f>g:\n",
        "                if n<=g+c:\n",
        "                    print(n)\n",
        "                else:\n",
        "                    print(g+c)\n",
        "            elif g>f:\n",
        "                if n<=f+c:\n",
        "                    print(n)\n",
        "                else:\n",
        "                    print(f+c)\n",
        "            elif c>n:\n",
        "                print(n)\n",
        "    elif n==0:\n",
        "        print(n)"
      ],
      "metadata": {
        "id": "YYfyc7lPjYDj"
      },
      "execution_count": null,
      "outputs": []
    },
    {
      "cell_type": "markdown",
      "source": [
        "q17"
      ],
      "metadata": {
        "id": "glzFPtl2jaaL"
      }
    },
    {
      "cell_type": "code",
      "source": [
        "def pitorestico(a,b,c):\n",
        "    if a%2==0 and a%3==0 and a%5==0:\n",
        "        if b%2==0 and b%3==0 and b%5==0:\n",
        "            if c%2==0 and c%3==0 and c%5==0:\n",
        "                print('Pitorestico!!!')\n",
        "            else:\n",
        "                print('Nao foi dessa vez')\n",
        "        else:\n",
        "                print('Nao foi dessa vez')\n",
        "\n",
        "    else:\n",
        "        print('Nao foi dessa vez')"
      ],
      "metadata": {
        "id": "8scs1CWaja8T"
      },
      "execution_count": null,
      "outputs": []
    },
    {
      "cell_type": "markdown",
      "source": [
        "q18"
      ],
      "metadata": {
        "id": "0CmVfY_VksDC"
      }
    },
    {
      "cell_type": "code",
      "source": [
        "def NomeMes(n):\n",
        "    if n>0:\n",
        "        if n==1:\n",
        "            return 'Janeiro'\n",
        "        if n==2:\n",
        "            return 'Fevereiro'\n",
        "        if n==3:\n",
        "            return'Março'\n",
        "        if n==4:\n",
        "            return'Abril'\n",
        "        if n==5:\n",
        "            return'Maio'\n",
        "        if n==6:\n",
        "            return'Junho'\n",
        "        if n==7:\n",
        "            return'Julho'\n",
        "        if n==8:\n",
        "            return'Agosto'\n",
        "        if n==9:\n",
        "            return'Setembro'\n",
        "        if n==10:\n",
        "            return'Outubro'\n",
        "        if n==11:\n",
        "            return'Novembro'\n",
        "        if n==12:\n",
        "            return 'Dezembro'\n",
        "    else:\n",
        "        return 'Mês inválido'\n"
      ],
      "metadata": {
        "colab": {
          "base_uri": "https://localhost:8080/"
        },
        "id": "KlElERhgksjC",
        "outputId": "927cb20e-1709-48a1-c2d2-2d12457467b0"
      },
      "execution_count": null,
      "outputs": [
        {
          "output_type": "stream",
          "name": "stdout",
          "text": [
            "abacaxi\n",
            "None\n"
          ]
        }
      ]
    },
    {
      "cell_type": "markdown",
      "source": [
        "q19"
      ],
      "metadata": {
        "id": "4oOTj-kfn7X9"
      }
    },
    {
      "cell_type": "code",
      "source": [
        "def EhBissexto(n):\n",
        "    if n>0:\n",
        "        if n%4==0:\n",
        "            return 'Bissexto'\n",
        "        elif n%400==0:\n",
        "            return 'Bissexto'\n",
        "        else:\n",
        "            return 'Ano Comum'"
      ],
      "metadata": {
        "id": "kfxmHXoLn7_D"
      },
      "execution_count": null,
      "outputs": []
    },
    {
      "cell_type": "markdown",
      "source": [
        "q20"
      ],
      "metadata": {
        "id": "CkbDL9f8ojbz"
      }
    },
    {
      "cell_type": "code",
      "source": [
        "def EhRetangulo(a,b,c):\n",
        "    m=max(a,b,c)\n",
        "    if m==a:\n",
        "        if a**2==b**2+c**2:\n",
        "            return 1\n",
        "    elif m==b:\n",
        "        if b**2==a**2+c**2:\n",
        "            return 1\n",
        "    elif m==c:\n",
        "        if c**2==a**2+b**2:\n",
        "            return 1\n",
        "    return 0\n"
      ],
      "metadata": {
        "id": "gMcz1X2Loj9V"
      },
      "execution_count": null,
      "outputs": []
    },
    {
      "cell_type": "markdown",
      "source": [
        "q21"
      ],
      "metadata": {
        "id": "PnELipo8pJIT"
      }
    },
    {
      "cell_type": "code",
      "source": [
        "def Ordena(a,b,c):\n",
        "    maior=max(a,b,c)\n",
        "    menor=min(a,b,c)\n",
        "    if maior==a:\n",
        "        if menor==b:\n",
        "            return b,c,a\n",
        "        elif menor==c:\n",
        "            return c,b,a\n",
        "    elif maior==b:\n",
        "        if menor==a:\n",
        "            return a,c,b\n",
        "        elif menor==c:\n",
        "            return c,a,b\n",
        "    else:\n",
        "        if menor==a:\n",
        "            return a,b,c\n",
        "        elif menor==b:\n",
        "            return b,a,c"
      ],
      "metadata": {
        "id": "5h-wxFPWpJbz"
      },
      "execution_count": null,
      "outputs": []
    },
    {
      "cell_type": "markdown",
      "source": [
        "q22"
      ],
      "metadata": {
        "id": "C88IeLk7rQJj"
      }
    },
    {
      "cell_type": "code",
      "source": [
        "def Alfabeto(a):\n",
        "    n=ord(a)\n",
        "    if 64<n<91 or 96<n<123:\n",
        "        if n==65 or n==97:\n",
        "            return 'Vogal'\n",
        "        elif n==69 or n==101:\n",
        "            return 'Vogal'\n",
        "        elif n==73 or n==105:\n",
        "            return 'Vogal'\n",
        "        elif n==79 or n==111:\n",
        "            return 'Vogal'\n",
        "        elif n==85 or n==117:\n",
        "            return'Vogal'\n",
        "        else:\n",
        "            return 'Consoante'\n",
        "    else:\n",
        "        return 'Não está no alfabeto'"
      ],
      "metadata": {
        "id": "8DIxXIb1tTXM"
      },
      "execution_count": null,
      "outputs": []
    },
    {
      "cell_type": "markdown",
      "source": [
        "q23"
      ],
      "metadata": {
        "id": "CU_S7o-LtTx0"
      }
    }
  ]
}
